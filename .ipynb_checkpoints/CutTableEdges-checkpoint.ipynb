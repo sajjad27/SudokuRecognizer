{
 "cells": [
  {
   "cell_type": "code",
   "execution_count": 4,
   "id": "cf1e9040",
   "metadata": {},
   "outputs": [],
   "source": [
    "from imutils.perspective import four_point_transform\n",
    "from skimage.segmentation import clear_border\n",
    "import numpy as np\n",
    "import imutils\n",
    "import cv2\n",
    "def find_puzzle(image, debug=False):\n",
    "    gray = cv2.cvtColor(image, cv2.COLOR_BGR2GRAY)\n",
    "    blurred = cv2.GaussianBlur(gray, (7, 7), 3)\n",
    "    thresh = cv2.adaptiveThreshold(blurred, 255,\n",
    "        cv2.ADAPTIVE_THRESH_GAUSSIAN_C, cv2.THRESH_BINARY, 11, 2)\n",
    "    thresh = cv2.bitwise_not(thresh)\n",
    "    \n",
    "    cv2.imwrite('thresh.png', thresh)\n",
    "    cv2.waitKey(0)\n",
    "    cv2.destroyAllWindows()\n",
    "    cnts = cv2.findContours(thresh.copy(), cv2.RETR_EXTERNAL,\n",
    "        cv2.CHAIN_APPROX_SIMPLE)\n",
    "    cnts = imutils.grab_contours(cnts)\n",
    "    cnts = sorted(cnts, key=cv2.contourArea, reverse=True)\n",
    "    puzzleCnt = None\n",
    "    for c in cnts:\n",
    "        peri = cv2.arcLength(c, True)\n",
    "        approx = cv2.approxPolyDP(c, 0.02 * peri, True)\n",
    "        if len(approx) == 4:\n",
    "            puzzleCnt = approx\n",
    "            break\n",
    "    if puzzleCnt is None:\n",
    "        raise Exception((\"Could not find Sudoku puzzle outline. \"\n",
    "            \"Try debugging your thresholding and contour steps.\"))\n",
    "\n",
    "    puzzle = four_point_transform(image, puzzleCnt.reshape(4, 2))\n",
    "    warped = four_point_transform(gray, puzzleCnt.reshape(4, 2))\n",
    "    return (puzzle, warped)"
   ]
  },
  {
   "cell_type": "code",
   "execution_count": 6,
   "id": "ff1ba7fa",
   "metadata": {},
   "outputs": [],
   "source": [
    "img = cv2.imread('examples/find.png')\n",
    "\n",
    "puzzle, warped = find_puzzle(img, debug=False)"
   ]
  },
  {
   "cell_type": "code",
   "execution_count": null,
   "id": "81654689",
   "metadata": {},
   "outputs": [],
   "source": []
  },
  {
   "cell_type": "code",
   "execution_count": null,
   "id": "1ab7a0e6",
   "metadata": {},
   "outputs": [],
   "source": []
  }
 ],
 "metadata": {
  "kernelspec": {
   "display_name": "Python 3 (ipykernel)",
   "language": "python",
   "name": "python3"
  },
  "language_info": {
   "codemirror_mode": {
    "name": "ipython",
    "version": 3
   },
   "file_extension": ".py",
   "mimetype": "text/x-python",
   "name": "python",
   "nbconvert_exporter": "python",
   "pygments_lexer": "ipython3",
   "version": "3.9.13"
  }
 },
 "nbformat": 4,
 "nbformat_minor": 5
}
